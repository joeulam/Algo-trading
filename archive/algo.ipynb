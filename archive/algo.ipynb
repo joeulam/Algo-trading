{
 "cells": [
  {
   "cell_type": "code",
   "execution_count": 25,
   "id": "399d4f29-23fb-49f4-8774-dd68acc0025b",
   "metadata": {},
   "outputs": [],
   "source": [
    "from alpaca.trading.client import TradingClient\n",
    "from alpaca.trading.requests import MarketOrderRequest\n",
    "from alpaca.trading.enums import OrderSide, TimeInForce\n",
    "from alpaca.trading.client import TradingClient\n",
    "import alpaca_trade_api as tradeapi\n",
    "from alpaca_trade_api.rest import REST, TimeFrame, TimeFrameUnit\n",
    "\n",
    "api_key = 'PK1XBVTFYABBZA2IP8LR'\n",
    "secret_keys = 'drrhgQOS7ffpAawfrMndih83O8FSHgfn1eOEjIUc'"
   ]
  },
  {
   "cell_type": "code",
   "execution_count": 26,
   "id": "b8ee6ec2-50f2-48e8-bc6a-01734389c70d",
   "metadata": {},
   "outputs": [],
   "source": [
    "trading_client = TradingClient(api_key, secret_keys, paper=True)\n",
    "account = trading_client.get_account()\n"
   ]
  },
  {
   "cell_type": "code",
   "execution_count": 28,
   "id": "d8993ac2-abf6-4b4a-abeb-76a90a0d9412",
   "metadata": {},
   "outputs": [
    {
     "ename": "RuntimeError",
     "evalue": "asyncio.run() cannot be called from a running event loop",
     "output_type": "error",
     "traceback": [
      "\u001b[1;31m---------------------------------------------------------------------------\u001b[0m",
      "\u001b[1;31mRuntimeError\u001b[0m                              Traceback (most recent call last)",
      "Cell \u001b[1;32mIn[28], line 20\u001b[0m\n\u001b[0;32m     17\u001b[0m stream\u001b[38;5;241m.\u001b[39msubscribe_trades(trade_callback, \u001b[38;5;124m'\u001b[39m\u001b[38;5;124mETH/USD\u001b[39m\u001b[38;5;124m'\u001b[39m)\n\u001b[0;32m     18\u001b[0m stream\u001b[38;5;241m.\u001b[39msubscribe_quotes(quote_callback, \u001b[38;5;124m'\u001b[39m\u001b[38;5;124mETH/USD\u001b[39m\u001b[38;5;124m'\u001b[39m)\n\u001b[1;32m---> 20\u001b[0m \u001b[43mstream\u001b[49m\u001b[38;5;241;43m.\u001b[39;49m\u001b[43mrun\u001b[49m\u001b[43m(\u001b[49m\u001b[43m)\u001b[49m\n",
      "File \u001b[1;32m~\\AppData\\Local\\Programs\\Python\\Python310\\lib\\site-packages\\alpaca_trade_api\\stream.py:1016\u001b[0m, in \u001b[0;36mStream.run\u001b[1;34m(self)\u001b[0m\n\u001b[0;32m   1014\u001b[0m \u001b[38;5;28;01mdef\u001b[39;00m \u001b[38;5;21mrun\u001b[39m(\u001b[38;5;28mself\u001b[39m):\n\u001b[0;32m   1015\u001b[0m     \u001b[38;5;28;01mtry\u001b[39;00m:\n\u001b[1;32m-> 1016\u001b[0m         \u001b[43masyncio\u001b[49m\u001b[38;5;241;43m.\u001b[39;49m\u001b[43mrun\u001b[49m\u001b[43m(\u001b[49m\u001b[38;5;28;43mself\u001b[39;49m\u001b[38;5;241;43m.\u001b[39;49m\u001b[43m_run_forever\u001b[49m\u001b[43m(\u001b[49m\u001b[43m)\u001b[49m\u001b[43m)\u001b[49m\n\u001b[0;32m   1017\u001b[0m     \u001b[38;5;28;01mexcept\u001b[39;00m \u001b[38;5;167;01mKeyboardInterrupt\u001b[39;00m:\n\u001b[0;32m   1018\u001b[0m         \u001b[38;5;28mprint\u001b[39m(\u001b[38;5;124m'\u001b[39m\u001b[38;5;124mkeyboard interrupt, bye\u001b[39m\u001b[38;5;124m'\u001b[39m)\n",
      "File \u001b[1;32m~\\AppData\\Local\\Programs\\Python\\Python310\\lib\\asyncio\\runners.py:33\u001b[0m, in \u001b[0;36mrun\u001b[1;34m(main, debug)\u001b[0m\n\u001b[0;32m      9\u001b[0m \u001b[38;5;250m\u001b[39m\u001b[38;5;124;03m\"\"\"Execute the coroutine and return the result.\u001b[39;00m\n\u001b[0;32m     10\u001b[0m \n\u001b[0;32m     11\u001b[0m \u001b[38;5;124;03mThis function runs the passed coroutine, taking care of\u001b[39;00m\n\u001b[1;32m   (...)\u001b[0m\n\u001b[0;32m     30\u001b[0m \u001b[38;5;124;03m    asyncio.run(main())\u001b[39;00m\n\u001b[0;32m     31\u001b[0m \u001b[38;5;124;03m\"\"\"\u001b[39;00m\n\u001b[0;32m     32\u001b[0m \u001b[38;5;28;01mif\u001b[39;00m events\u001b[38;5;241m.\u001b[39m_get_running_loop() \u001b[38;5;129;01mis\u001b[39;00m \u001b[38;5;129;01mnot\u001b[39;00m \u001b[38;5;28;01mNone\u001b[39;00m:\n\u001b[1;32m---> 33\u001b[0m     \u001b[38;5;28;01mraise\u001b[39;00m \u001b[38;5;167;01mRuntimeError\u001b[39;00m(\n\u001b[0;32m     34\u001b[0m         \u001b[38;5;124m\"\u001b[39m\u001b[38;5;124masyncio.run() cannot be called from a running event loop\u001b[39m\u001b[38;5;124m\"\u001b[39m)\n\u001b[0;32m     36\u001b[0m \u001b[38;5;28;01mif\u001b[39;00m \u001b[38;5;129;01mnot\u001b[39;00m coroutines\u001b[38;5;241m.\u001b[39miscoroutine(main):\n\u001b[0;32m     37\u001b[0m     \u001b[38;5;28;01mraise\u001b[39;00m \u001b[38;5;167;01mValueError\u001b[39;00m(\u001b[38;5;124m\"\u001b[39m\u001b[38;5;124ma coroutine was expected, got \u001b[39m\u001b[38;5;132;01m{!r}\u001b[39;00m\u001b[38;5;124m\"\u001b[39m\u001b[38;5;241m.\u001b[39mformat(main))\n",
      "\u001b[1;31mRuntimeError\u001b[0m: asyncio.run() cannot be called from a running event loop"
     ]
    }
   ],
   "source": [
    "from alpaca_trade_api.common import URL\n",
    "from alpaca_trade_api.stream import Stream\n",
    "# Initiate Class Instance\n",
    "async def trade_callback(t):\n",
    "    print('trade', t)\n",
    "\n",
    "\n",
    "async def quote_callback(q):\n",
    "    print('quote', q)\n",
    "\n",
    "stream = Stream(api_key,\n",
    "                secret_keys,\n",
    "                base_url=URL('https://paper-api.alpaca.markets'),\n",
    "                data_feed='iex')  # <- replace to 'sip' if you have PRO subscription\n",
    "\n",
    "# subscribing to event\n",
    "stream.subscribe_trades(trade_callback, 'ETH/USD')\n",
    "stream.subscribe_quotes(quote_callback, 'ETH/USD')\n",
    "\n",
    "stream.run()"
   ]
  },
  {
   "cell_type": "code",
   "execution_count": null,
   "id": "ba07217d-46eb-48b2-9e7e-780771361c49",
   "metadata": {},
   "outputs": [],
   "source": [
    "\n",
    "# preparing orders\n",
    "while(True):\n",
    "  if()\n",
    "market_order_data = MarketOrderRequest(\n",
    "                    symbol=\"ETH/USD\",\n",
    "                    qty=1.2,\n",
    "                    side=OrderSide.BUY,\n",
    "                    time_in_force=TimeInForce.GTC\n",
    "                    )\n",
    "# Market order\n",
    "market_order = trading_client.submit_order(\n",
    "                order_data=market_order_data\n",
    "               )\n",
    "# Sell a stock(Just change side to 'sell')\n",
    "market_order_data = MarketOrderRequest(\n",
    "  symbol='ETH/USD',\n",
    "  qty=1,\n",
    "  side=OrderSide.SELL,\n",
    "  time_in_force=TimeInForce.GTC\n",
    ")\n",
    "market_order = trading_client.submit_order(\n",
    "                order_data=market_order_data\n",
    "               )"
   ]
  }
 ],
 "metadata": {
  "kernelspec": {
   "display_name": "Python 3 (ipykernel)",
   "language": "python",
   "name": "python3"
  },
  "language_info": {
   "codemirror_mode": {
    "name": "ipython",
    "version": 3
   },
   "file_extension": ".py",
   "mimetype": "text/x-python",
   "name": "python",
   "nbconvert_exporter": "python",
   "pygments_lexer": "ipython3",
   "version": "3.10.9"
  }
 },
 "nbformat": 4,
 "nbformat_minor": 5
}
